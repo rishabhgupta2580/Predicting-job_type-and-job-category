{
  "nbformat": 4,
  "nbformat_minor": 0,
  "metadata": {
    "colab": {
      "name": "ZS_Project_predictions_TFIDF.ipynb",
      "provenance": [],
      "collapsed_sections": []
    },
    "kernelspec": {
      "name": "python3",
      "display_name": "Python 3"
    }
  },
  "cells": [
    {
      "cell_type": "code",
      "metadata": {
        "id": "feZYztaGnJ-H",
        "outputId": "2278c5ec-6d4e-49c8-ba6c-ad2fb8a44ced",
        "colab": {
          "base_uri": "https://localhost:8080/",
          "height": 72
        }
      },
      "source": [
        "#import all the required Libraries \n",
        "import pandas as pd  \n",
        "import numpy as np\n",
        "import nltk\n",
        "import seaborn as sns\n",
        "import matplotlib.pyplot as plt\n",
        "import string\n",
        "from sklearn.preprocessing import LabelEncoder\n",
        "from nltk.corpus import stopwords\n",
        "from nltk.stem.porter import PorterStemmer\n",
        "import re\n",
        "from sklearn.feature_extraction.text import CountVectorizer\n",
        "from sklearn.model_selection import train_test_split\n",
        "from sklearn.naive_bayes import MultinomialNB\n",
        "from sklearn import metrics\n",
        "import itertools\n",
        "from sklearn.feature_extraction.text import TfidfVectorizer\n",
        "nltk.download('stopwords')\n",
        "\n",
        "print('importing done')"
      ],
      "execution_count": 1,
      "outputs": [
        {
          "output_type": "stream",
          "text": [
            "[nltk_data] Downloading package stopwords to /root/nltk_data...\n",
            "[nltk_data]   Package stopwords is already up-to-date!\n",
            "importing done\n"
          ],
          "name": "stdout"
        }
      ]
    },
    {
      "cell_type": "code",
      "metadata": {
        "id": "mZRBjhklnUhi",
        "outputId": "3d5fe953-f0bf-4b14-a00c-feddb2e2e1c5",
        "colab": {
          "base_uri": "https://localhost:8080/",
          "height": 407
        }
      },
      "source": [
        "#Read the training dataset \n",
        "pharma_train=pd.read_csv('/content/drive/My Drive/Python/ZS_original/train.csv')\n",
        "pharma_train"
      ],
      "execution_count": 2,
      "outputs": [
        {
          "output_type": "execute_result",
          "data": {
            "text/html": [
              "<div>\n",
              "<style scoped>\n",
              "    .dataframe tbody tr th:only-of-type {\n",
              "        vertical-align: middle;\n",
              "    }\n",
              "\n",
              "    .dataframe tbody tr th {\n",
              "        vertical-align: top;\n",
              "    }\n",
              "\n",
              "    .dataframe thead th {\n",
              "        text-align: right;\n",
              "    }\n",
              "</style>\n",
              "<table border=\"1\" class=\"dataframe\">\n",
              "  <thead>\n",
              "    <tr style=\"text-align: right;\">\n",
              "      <th></th>\n",
              "      <th>job_no</th>\n",
              "      <th>job_description</th>\n",
              "      <th>job_type</th>\n",
              "      <th>category</th>\n",
              "    </tr>\n",
              "  </thead>\n",
              "  <tbody>\n",
              "    <tr>\n",
              "      <th>0</th>\n",
              "      <td>Id-12765</td>\n",
              "      <td>Zest Scientific is searching for an accomplis...</td>\n",
              "      <td>Permanent</td>\n",
              "      <td>Pharmaceutical, Healthcare and Medical Sales</td>\n",
              "    </tr>\n",
              "    <tr>\n",
              "      <th>1</th>\n",
              "      <td>Id-22925</td>\n",
              "      <td>En el mundo de los CRO's típicos, esta compañí...</td>\n",
              "      <td>Permanent</td>\n",
              "      <td>Clinical Research</td>\n",
              "    </tr>\n",
              "    <tr>\n",
              "      <th>2</th>\n",
              "      <td>Id-1321</td>\n",
              "      <td>Asha Mistry of Umbilical Life is recruiting an...</td>\n",
              "      <td>Contract/Interim</td>\n",
              "      <td>Pharmaceutical Marketing</td>\n",
              "    </tr>\n",
              "    <tr>\n",
              "      <th>3</th>\n",
              "      <td>Id-9473</td>\n",
              "      <td>Sales Representative - Laser in der Medizinte...</td>\n",
              "      <td>Permanent</td>\n",
              "      <td>Pharmaceutical, Healthcare and Medical Sales</td>\n",
              "    </tr>\n",
              "    <tr>\n",
              "      <th>4</th>\n",
              "      <td>Id-14952</td>\n",
              "      <td>Field Service Engineer - Life Science\\r\\r\\r\\nC...</td>\n",
              "      <td>Permanent</td>\n",
              "      <td>Manufacturing &amp; Operations</td>\n",
              "    </tr>\n",
              "    <tr>\n",
              "      <th>...</th>\n",
              "      <td>...</td>\n",
              "      <td>...</td>\n",
              "      <td>...</td>\n",
              "      <td>...</td>\n",
              "    </tr>\n",
              "    <tr>\n",
              "      <th>17652</th>\n",
              "      <td>Id-1708</td>\n",
              "      <td>Evolve Selection are currently recruiting for ...</td>\n",
              "      <td>Permanent</td>\n",
              "      <td>Manufacturing &amp; Operations</td>\n",
              "    </tr>\n",
              "    <tr>\n",
              "      <th>17653</th>\n",
              "      <td>Id-18516</td>\n",
              "      <td>Therapy Area: Respiratory\\r\\r\\r\\nPackage: Nego...</td>\n",
              "      <td>Permanent</td>\n",
              "      <td>Science</td>\n",
              "    </tr>\n",
              "    <tr>\n",
              "      <th>17654</th>\n",
              "      <td>Id-13531</td>\n",
              "      <td>COMPANY\\r\\r\\r\\nA specialised health economics ...</td>\n",
              "      <td>Permanent</td>\n",
              "      <td>Medical Information and Pharmacovigilance</td>\n",
              "    </tr>\n",
              "    <tr>\n",
              "      <th>17655</th>\n",
              "      <td>Id-21805</td>\n",
              "      <td>Asha Mistry de Umbilical Life está reclutando ...</td>\n",
              "      <td>Permanent</td>\n",
              "      <td>Clinical Research</td>\n",
              "    </tr>\n",
              "    <tr>\n",
              "      <th>17656</th>\n",
              "      <td>Id-13021</td>\n",
              "      <td>Mid Size CRO - UK Homebased CRA\\r\\r\\r\\nI am cu...</td>\n",
              "      <td>Permanent</td>\n",
              "      <td>Clinical Research</td>\n",
              "    </tr>\n",
              "  </tbody>\n",
              "</table>\n",
              "<p>17657 rows × 4 columns</p>\n",
              "</div>"
            ],
            "text/plain": [
              "         job_no  ...                                      category\n",
              "0      Id-12765  ...  Pharmaceutical, Healthcare and Medical Sales\n",
              "1      Id-22925  ...                             Clinical Research\n",
              "2       Id-1321  ...                      Pharmaceutical Marketing\n",
              "3       Id-9473  ...  Pharmaceutical, Healthcare and Medical Sales\n",
              "4      Id-14952  ...                    Manufacturing & Operations\n",
              "...         ...  ...                                           ...\n",
              "17652   Id-1708  ...                    Manufacturing & Operations\n",
              "17653  Id-18516  ...                                       Science\n",
              "17654  Id-13531  ...     Medical Information and Pharmacovigilance\n",
              "17655  Id-21805  ...                             Clinical Research\n",
              "17656  Id-13021  ...                             Clinical Research\n",
              "\n",
              "[17657 rows x 4 columns]"
            ]
          },
          "metadata": {
            "tags": []
          },
          "execution_count": 2
        }
      ]
    },
    {
      "cell_type": "code",
      "metadata": {
        "id": "HO4xIDUfnpw1",
        "outputId": "95666ee8-48bc-407f-f342-09cd8c4e623b",
        "colab": {
          "base_uri": "https://localhost:8080/",
          "height": 407
        }
      },
      "source": [
        "#read the testing dataset\n",
        "pharma_test=pd.read_csv('/content/drive/My Drive/Python/ZS_original/test.csv')\n",
        "pharma_test"
      ],
      "execution_count": 3,
      "outputs": [
        {
          "output_type": "execute_result",
          "data": {
            "text/html": [
              "<div>\n",
              "<style scoped>\n",
              "    .dataframe tbody tr th:only-of-type {\n",
              "        vertical-align: middle;\n",
              "    }\n",
              "\n",
              "    .dataframe tbody tr th {\n",
              "        vertical-align: top;\n",
              "    }\n",
              "\n",
              "    .dataframe thead th {\n",
              "        text-align: right;\n",
              "    }\n",
              "</style>\n",
              "<table border=\"1\" class=\"dataframe\">\n",
              "  <thead>\n",
              "    <tr style=\"text-align: right;\">\n",
              "      <th></th>\n",
              "      <th>job_no</th>\n",
              "      <th>job_description</th>\n",
              "    </tr>\n",
              "  </thead>\n",
              "  <tbody>\n",
              "    <tr>\n",
              "      <th>0</th>\n",
              "      <td>Id-1</td>\n",
              "      <td>SAS Statistical Programmer II. UK. SDTM. ADaM....</td>\n",
              "    </tr>\n",
              "    <tr>\n",
              "      <th>1</th>\n",
              "      <td>Id-2</td>\n",
              "      <td>Therapy Area: Respiratory\\r\\r\\r\\nPackage: Nego...</td>\n",
              "    </tr>\n",
              "    <tr>\n",
              "      <th>2</th>\n",
              "      <td>Id-4</td>\n",
              "      <td>RBW consulting are working in partnership with...</td>\n",
              "    </tr>\n",
              "    <tr>\n",
              "      <th>3</th>\n",
              "      <td>Id-6</td>\n",
              "      <td>One of my long term clients is currently look...</td>\n",
              "    </tr>\n",
              "    <tr>\n",
              "      <th>4</th>\n",
              "      <td>Id-7</td>\n",
              "      <td>Unique package - Statistical Programmer - CRO\\...</td>\n",
              "    </tr>\n",
              "    <tr>\n",
              "      <th>...</th>\n",
              "      <td>...</td>\n",
              "      <td>...</td>\n",
              "    </tr>\n",
              "    <tr>\n",
              "      <th>11766</th>\n",
              "      <td>Id-29421</td>\n",
              "      <td>Unternehmen:\\r\\r\\r\\n Grafschaft\\r\\r\\r\\nPositio...</td>\n",
              "    </tr>\n",
              "    <tr>\n",
              "      <th>11767</th>\n",
              "      <td>Id-29422</td>\n",
              "      <td>Austin Fraser freut sich auf die Zusammenarbei...</td>\n",
              "    </tr>\n",
              "    <tr>\n",
              "      <th>11768</th>\n",
              "      <td>Id-29425</td>\n",
              "      <td>Hyper Recruitment Solutions ist derzeit auf de...</td>\n",
              "    </tr>\n",
              "    <tr>\n",
              "      <th>11769</th>\n",
              "      <td>Id-29426</td>\n",
              "      <td>Leiter des globalen PV - Compliance &amp; Training...</td>\n",
              "    </tr>\n",
              "    <tr>\n",
              "      <th>11770</th>\n",
              "      <td>Id-29427</td>\n",
              "      <td>Sind Sie ein ambitionierter medizinischer Komm...</td>\n",
              "    </tr>\n",
              "  </tbody>\n",
              "</table>\n",
              "<p>11771 rows × 2 columns</p>\n",
              "</div>"
            ],
            "text/plain": [
              "         job_no                                    job_description\n",
              "0          Id-1  SAS Statistical Programmer II. UK. SDTM. ADaM....\n",
              "1          Id-2  Therapy Area: Respiratory\\r\\r\\r\\nPackage: Nego...\n",
              "2          Id-4  RBW consulting are working in partnership with...\n",
              "3          Id-6   One of my long term clients is currently look...\n",
              "4          Id-7  Unique package - Statistical Programmer - CRO\\...\n",
              "...         ...                                                ...\n",
              "11766  Id-29421  Unternehmen:\\r\\r\\r\\n Grafschaft\\r\\r\\r\\nPositio...\n",
              "11767  Id-29422  Austin Fraser freut sich auf die Zusammenarbei...\n",
              "11768  Id-29425  Hyper Recruitment Solutions ist derzeit auf de...\n",
              "11769  Id-29426  Leiter des globalen PV - Compliance & Training...\n",
              "11770  Id-29427  Sind Sie ein ambitionierter medizinischer Komm...\n",
              "\n",
              "[11771 rows x 2 columns]"
            ]
          },
          "metadata": {
            "tags": []
          },
          "execution_count": 3
        }
      ]
    },
    {
      "cell_type": "code",
      "metadata": {
        "id": "_cUEaOFrn9Rn",
        "outputId": "a5140642-61ed-4238-832d-8d84d828c8a9",
        "colab": {
          "base_uri": "https://localhost:8080/",
          "height": 198
        }
      },
      "source": [
        "pharma_sample=pd.read_csv('/content/drive/My Drive/Python/ZS_original/sample_submission.csv')\n",
        "pharma_sample"
      ],
      "execution_count": 4,
      "outputs": [
        {
          "output_type": "execute_result",
          "data": {
            "text/html": [
              "<div>\n",
              "<style scoped>\n",
              "    .dataframe tbody tr th:only-of-type {\n",
              "        vertical-align: middle;\n",
              "    }\n",
              "\n",
              "    .dataframe tbody tr th {\n",
              "        vertical-align: top;\n",
              "    }\n",
              "\n",
              "    .dataframe thead th {\n",
              "        text-align: right;\n",
              "    }\n",
              "</style>\n",
              "<table border=\"1\" class=\"dataframe\">\n",
              "  <thead>\n",
              "    <tr style=\"text-align: right;\">\n",
              "      <th></th>\n",
              "      <th>job_no</th>\n",
              "      <th>category</th>\n",
              "      <th>job_type</th>\n",
              "    </tr>\n",
              "  </thead>\n",
              "  <tbody>\n",
              "    <tr>\n",
              "      <th>0</th>\n",
              "      <td>Id-1</td>\n",
              "      <td>Data Management and Statistics</td>\n",
              "      <td>Permanent</td>\n",
              "    </tr>\n",
              "    <tr>\n",
              "      <th>1</th>\n",
              "      <td>Id-2</td>\n",
              "      <td>Pharmaceutical, Healthcare and Medical Sales</td>\n",
              "      <td>Permanent</td>\n",
              "    </tr>\n",
              "    <tr>\n",
              "      <th>2</th>\n",
              "      <td>Id-4</td>\n",
              "      <td>Science</td>\n",
              "      <td>Permanent</td>\n",
              "    </tr>\n",
              "    <tr>\n",
              "      <th>3</th>\n",
              "      <td>Id-6</td>\n",
              "      <td>Pharmaceutical Marketing</td>\n",
              "      <td>Permanent</td>\n",
              "    </tr>\n",
              "    <tr>\n",
              "      <th>4</th>\n",
              "      <td>Id-7</td>\n",
              "      <td>Clinical Research</td>\n",
              "      <td>Permanent</td>\n",
              "    </tr>\n",
              "  </tbody>\n",
              "</table>\n",
              "</div>"
            ],
            "text/plain": [
              "  job_no                                      category   job_type\n",
              "0   Id-1                Data Management and Statistics  Permanent\n",
              "1   Id-2  Pharmaceutical, Healthcare and Medical Sales  Permanent\n",
              "2   Id-4                                       Science  Permanent\n",
              "3   Id-6                      Pharmaceutical Marketing  Permanent\n",
              "4   Id-7                             Clinical Research  Permanent"
            ]
          },
          "metadata": {
            "tags": []
          },
          "execution_count": 4
        }
      ]
    },
    {
      "cell_type": "code",
      "metadata": {
        "id": "gZ2fABVIoW8i"
      },
      "source": [
        "#dropping the duplicates and nan values\n",
        "pharma_train.drop_duplicates(inplace=True)\n",
        "pharma_train.dropna(axis=0,inplace=True)\n",
        "pharma_test.drop_duplicates(inplace=True)\n",
        "pharma_test.dropna(axis=0,inplace=True)\n"
      ],
      "execution_count": 5,
      "outputs": []
    },
    {
      "cell_type": "code",
      "metadata": {
        "id": "MX2HAQAWrDhh",
        "outputId": "51390b9f-e11c-4218-bc30-ca65b0984dfd",
        "colab": {
          "base_uri": "https://localhost:8080/",
          "height": 217
        }
      },
      "source": [
        "#printing the information of training data \n",
        "pharma_train.info()"
      ],
      "execution_count": 6,
      "outputs": [
        {
          "output_type": "stream",
          "text": [
            "<class 'pandas.core.frame.DataFrame'>\n",
            "Int64Index: 17657 entries, 0 to 17656\n",
            "Data columns (total 4 columns):\n",
            " #   Column           Non-Null Count  Dtype \n",
            "---  ------           --------------  ----- \n",
            " 0   job_no           17657 non-null  object\n",
            " 1   job_description  17657 non-null  object\n",
            " 2   job_type         17657 non-null  object\n",
            " 3   category         17657 non-null  object\n",
            "dtypes: object(4)\n",
            "memory usage: 689.7+ KB\n"
          ],
          "name": "stdout"
        }
      ]
    },
    {
      "cell_type": "code",
      "metadata": {
        "id": "MPvTgIcj6b27",
        "outputId": "7de3f84b-689c-4bc7-b1df-cf9beb109dd0",
        "colab": {
          "base_uri": "https://localhost:8080/",
          "height": 235
        }
      },
      "source": [
        "#counting the no. of each value occured category in trainning dataset\n",
        "pharma_train.category.value_counts()"
      ],
      "execution_count": 7,
      "outputs": [
        {
          "output_type": "execute_result",
          "data": {
            "text/plain": [
              "Pharmaceutical, Healthcare and Medical Sales    4507\n",
              "Clinical Research                               3172\n",
              "Science                                         2932\n",
              "Manufacturing & Operations                      2235\n",
              "Regulatory Affairs                              1163\n",
              "Pharmaceutical Marketing                        1071\n",
              "Data Management and Statistics                   829\n",
              "Quality-assurance                                703\n",
              "Medical Information and Pharmacovigilance        561\n",
              "Medical Affairs / Pharmaceutical Physician       458\n",
              "Pharmacy                                          26\n",
              "Name: category, dtype: int64"
            ]
          },
          "metadata": {
            "tags": []
          },
          "execution_count": 7
        }
      ]
    },
    {
      "cell_type": "code",
      "metadata": {
        "id": "9b_tvtPJh6oM",
        "outputId": "30eb9996-7c59-41b3-d5c8-5b4da7a6c714",
        "colab": {
          "base_uri": "https://localhost:8080/",
          "height": 145
        }
      },
      "source": [
        "#counting the no. of each value occured job type in trainning dataset\n",
        "pharma_train.job_type.value_counts()"
      ],
      "execution_count": 8,
      "outputs": [
        {
          "output_type": "execute_result",
          "data": {
            "text/plain": [
              "Permanent             15777\n",
              "Contract/Interim       1414\n",
              "Contract/Temp           305\n",
              "Temporary/Seasonal      113\n",
              "Any                      25\n",
              "Part-Time                23\n",
              "Name: job_type, dtype: int64"
            ]
          },
          "metadata": {
            "tags": []
          },
          "execution_count": 8
        }
      ]
    },
    {
      "cell_type": "code",
      "metadata": {
        "id": "zMfFGcfV4OvM",
        "outputId": "c6847a8f-d300-4505-e3f3-69cb981b867e",
        "colab": {
          "base_uri": "https://localhost:8080/",
          "height": 181
        }
      },
      "source": [
        "pharma_test.info()"
      ],
      "execution_count": 9,
      "outputs": [
        {
          "output_type": "stream",
          "text": [
            "<class 'pandas.core.frame.DataFrame'>\n",
            "Int64Index: 11771 entries, 0 to 11770\n",
            "Data columns (total 2 columns):\n",
            " #   Column           Non-Null Count  Dtype \n",
            "---  ------           --------------  ----- \n",
            " 0   job_no           11771 non-null  object\n",
            " 1   job_description  11771 non-null  object\n",
            "dtypes: object(2)\n",
            "memory usage: 275.9+ KB\n"
          ],
          "name": "stdout"
        }
      ]
    },
    {
      "cell_type": "code",
      "metadata": {
        "id": "CymBRf6DrpVM",
        "outputId": "3bf577a6-8d1b-4392-b23e-804318bb60a6",
        "colab": {
          "base_uri": "https://localhost:8080/",
          "height": 168
        }
      },
      "source": [
        "pharma_train.describe()"
      ],
      "execution_count": 10,
      "outputs": [
        {
          "output_type": "execute_result",
          "data": {
            "text/html": [
              "<div>\n",
              "<style scoped>\n",
              "    .dataframe tbody tr th:only-of-type {\n",
              "        vertical-align: middle;\n",
              "    }\n",
              "\n",
              "    .dataframe tbody tr th {\n",
              "        vertical-align: top;\n",
              "    }\n",
              "\n",
              "    .dataframe thead th {\n",
              "        text-align: right;\n",
              "    }\n",
              "</style>\n",
              "<table border=\"1\" class=\"dataframe\">\n",
              "  <thead>\n",
              "    <tr style=\"text-align: right;\">\n",
              "      <th></th>\n",
              "      <th>job_no</th>\n",
              "      <th>job_description</th>\n",
              "      <th>job_type</th>\n",
              "      <th>category</th>\n",
              "    </tr>\n",
              "  </thead>\n",
              "  <tbody>\n",
              "    <tr>\n",
              "      <th>count</th>\n",
              "      <td>17657</td>\n",
              "      <td>17657</td>\n",
              "      <td>17657</td>\n",
              "      <td>17657</td>\n",
              "    </tr>\n",
              "    <tr>\n",
              "      <th>unique</th>\n",
              "      <td>17657</td>\n",
              "      <td>7006</td>\n",
              "      <td>6</td>\n",
              "      <td>11</td>\n",
              "    </tr>\n",
              "    <tr>\n",
              "      <th>top</th>\n",
              "      <td>Id-16239</td>\n",
              "      <td>Experienced Medical Writing - Germany - Consul...</td>\n",
              "      <td>Permanent</td>\n",
              "      <td>Pharmaceutical, Healthcare and Medical Sales</td>\n",
              "    </tr>\n",
              "    <tr>\n",
              "      <th>freq</th>\n",
              "      <td>1</td>\n",
              "      <td>38</td>\n",
              "      <td>15777</td>\n",
              "      <td>4507</td>\n",
              "    </tr>\n",
              "  </tbody>\n",
              "</table>\n",
              "</div>"
            ],
            "text/plain": [
              "          job_no  ...                                      category\n",
              "count      17657  ...                                         17657\n",
              "unique     17657  ...                                            11\n",
              "top     Id-16239  ...  Pharmaceutical, Healthcare and Medical Sales\n",
              "freq           1  ...                                          4507\n",
              "\n",
              "[4 rows x 4 columns]"
            ]
          },
          "metadata": {
            "tags": []
          },
          "execution_count": 10
        }
      ]
    },
    {
      "cell_type": "code",
      "metadata": {
        "id": "QBsV4Ih4r_pG",
        "outputId": "1a1202c9-df51-4857-d047-4fe341c3a93d",
        "colab": {
          "base_uri": "https://localhost:8080/",
          "height": 168
        }
      },
      "source": [
        "pharma_test.describe()"
      ],
      "execution_count": 11,
      "outputs": [
        {
          "output_type": "execute_result",
          "data": {
            "text/html": [
              "<div>\n",
              "<style scoped>\n",
              "    .dataframe tbody tr th:only-of-type {\n",
              "        vertical-align: middle;\n",
              "    }\n",
              "\n",
              "    .dataframe tbody tr th {\n",
              "        vertical-align: top;\n",
              "    }\n",
              "\n",
              "    .dataframe thead th {\n",
              "        text-align: right;\n",
              "    }\n",
              "</style>\n",
              "<table border=\"1\" class=\"dataframe\">\n",
              "  <thead>\n",
              "    <tr style=\"text-align: right;\">\n",
              "      <th></th>\n",
              "      <th>job_no</th>\n",
              "      <th>job_description</th>\n",
              "    </tr>\n",
              "  </thead>\n",
              "  <tbody>\n",
              "    <tr>\n",
              "      <th>count</th>\n",
              "      <td>11771</td>\n",
              "      <td>11771</td>\n",
              "    </tr>\n",
              "    <tr>\n",
              "      <th>unique</th>\n",
              "      <td>11771</td>\n",
              "      <td>5669</td>\n",
              "    </tr>\n",
              "    <tr>\n",
              "      <th>top</th>\n",
              "      <td>Id-10823</td>\n",
              "      <td>RBW consulting are working in partnership with...</td>\n",
              "    </tr>\n",
              "    <tr>\n",
              "      <th>freq</th>\n",
              "      <td>1</td>\n",
              "      <td>28</td>\n",
              "    </tr>\n",
              "  </tbody>\n",
              "</table>\n",
              "</div>"
            ],
            "text/plain": [
              "          job_no                                    job_description\n",
              "count      11771                                              11771\n",
              "unique     11771                                               5669\n",
              "top     Id-10823  RBW consulting are working in partnership with...\n",
              "freq           1                                                 28"
            ]
          },
          "metadata": {
            "tags": []
          },
          "execution_count": 11
        }
      ]
    },
    {
      "cell_type": "code",
      "metadata": {
        "id": "Vd0qt46luaBI",
        "outputId": "82511075-ee0e-42eb-ec65-51d7383c961e",
        "colab": {
          "base_uri": "https://localhost:8080/",
          "height": 145
        }
      },
      "source": [
        "pharma_train.job_description[2]"
      ],
      "execution_count": 12,
      "outputs": [
        {
          "output_type": "execute_result",
          "data": {
            "application/vnd.google.colaboratory.intrinsic+json": {
              "type": "string"
            },
            "text/plain": [
              "'Asha Mistry of Umbilical Life is recruiting an \\r\\r\\r\\nexperienced Account Manager\\r\\r\\r\\n for a medical communications agency based in Cheshire on a \\r\\r\\r\\nfreelance 6 month contract\\r\\r\\r\\n.\\r\\r\\r\\nThis is a great opportunity to work with a medical communications agency that works with clients in the pharmaceutical sector.\\r\\r\\r\\nHave you got considerable experience managing and developing client accounts in the pharmaceutical or healthcare sector? The ideal candidate will have significant account management experience developed within a medical communications agency.\\r\\r\\r\\nExperience and qualifications:\\r\\r\\r\\nA life-sciences degree is preferred, but must be educated to degree level\\r\\r\\r\\nMust have experience within a medical communications agency or healthcare advertising agency\\r\\r\\r\\nAt least 2 years’ Account Management experience is required in medical communications\\r\\r\\r\\nAble to develop client relationships and work closely with clients on budgets and deadlines\\r\\r\\r\\nMust have strong attention to detail\\r\\r\\r\\nFamiliar with a variety of therapy areas\\r\\r\\r\\n*Please note, you must be eligible to work in the UK to apply for this role.\\r\\r\\r\\nTo find out more about the role, please contact \\r\\r\\r\\nAsha Mistry\\r\\r\\r\\n at \\r\\r\\r\\nUmbilical Life\\r\\r\\r\\n on ******************** or email ***********************\\r\\r\\r\\nApply Now\\r\\r\\r\\nRef no: 328772-MISTRY-AM-FC'"
            ]
          },
          "metadata": {
            "tags": []
          },
          "execution_count": 12
        }
      ]
    },
    {
      "cell_type": "code",
      "metadata": {
        "id": "AVt3Mx9yuqHG",
        "outputId": "07c5d2b4-d7dd-4470-e75d-9aa865fa0ee0",
        "colab": {
          "base_uri": "https://localhost:8080/",
          "height": 145
        }
      },
      "source": [
        "pharma_test.job_description[2]"
      ],
      "execution_count": 13,
      "outputs": [
        {
          "output_type": "execute_result",
          "data": {
            "application/vnd.google.colaboratory.intrinsic+json": {
              "type": "string"
            },
            "text/plain": [
              "'RBW consulting are working in partnership with a specialist Biometric consultancy who are looking for an experienced Principal Statistician to work remotely from the UK and join their expanding team. With a focus on providing high quality support across Biometrics, Regulatory Affairs and Quality Assurance this is a great time to join a company with a team of specialists who pride themselves on the quality of work and flexible approach to clients needs.\\r\\r\\r\\nThe company are looking for a Principal Statistician that enjoys working across a range of therapeutic areas and will have the opportunity to work on interesting and exciting projects for a number of pharmaceutical and biotech clients.\\r\\r\\r\\nMy client and I would like to hear from you if you have at least 5 years experience of Biostatistics in a clinical environment and a degree in a statistics/mathematics or computing-related discipline.\\r\\r\\r\\nPlease see below a selection of the responsibilities, should you wish to find out more details I am happy to answer any questions you may have.\\r\\r\\r\\nResponsibilities Include:\\r\\r\\r\\nProject management, acting as the main point of contact for assigned projects,\\r\\r\\r\\nProviding strategic advice to clients on matters concerned with their statistical needs\\r\\r\\r\\nPerforming statistical activities such as statistical consultancy and SAP development\\r\\r\\r\\nSAS programming for, and producing, efficacy and safety tables, listings, figures and analyses\\r\\r\\r\\nMinimum requirements\\r\\r\\r\\nMSc or PhD in Statistics or related field\\r\\r\\r\\nGood Clinical Practice (GCP) and International Conference on Harmonization (ICH) guidelines\\r\\r\\r\\nPrevious leadership experience of a team or sub-team\\r\\r\\r\\nProficient in the use of CDISC, SDTM and ADaM\\r\\r\\r\\nStrong working knowledge of SAS\\r\\r\\r\\nTo find out more about this fantastic opportunity please contact Geoff King at RBW Consulting.\\r\\r\\r\\n At RBW Consulting LLP, every one of our consultants has the benefit of five years’ experience in helping Pharmaceutical Professionals find the jobs they are looking for in the industry.\\r\\r\\r\\n With unrivalled industry knowledge and excellent links with hiring managers in Biotechs, Pharmas and CROs throughout the UK, Europe and across the world, we would be delighted to speak with you about the role you are looking for.\\r\\r\\r\\nApply Now\\r\\r\\r\\nRef no: 187623-VR11248'"
            ]
          },
          "metadata": {
            "tags": []
          },
          "execution_count": 13
        }
      ]
    },
    {
      "cell_type": "code",
      "metadata": {
        "id": "6li0o5rr4dIY"
      },
      "source": [
        "#making copies of training and testing datasets\n",
        "train=pharma_train.copy()\n",
        "test=pharma_test.copy()"
      ],
      "execution_count": 14,
      "outputs": []
    },
    {
      "cell_type": "code",
      "metadata": {
        "id": "zyaDW1kt46Ud",
        "outputId": "ab7ef461-3c9a-4646-9c86-3ee0b28f498a",
        "colab": {
          "base_uri": "https://localhost:8080/",
          "height": 108
        }
      },
      "source": [
        "train.isnull().sum()"
      ],
      "execution_count": 15,
      "outputs": [
        {
          "output_type": "execute_result",
          "data": {
            "text/plain": [
              "job_no             0\n",
              "job_description    0\n",
              "job_type           0\n",
              "category           0\n",
              "dtype: int64"
            ]
          },
          "metadata": {
            "tags": []
          },
          "execution_count": 15
        }
      ]
    },
    {
      "cell_type": "code",
      "metadata": {
        "id": "C7o7O5q25lW1",
        "outputId": "860b595e-1fc3-4053-efcd-c851a759a625",
        "colab": {
          "base_uri": "https://localhost:8080/",
          "height": 72
        }
      },
      "source": [
        "#printing the information about predicting job type.\n",
        "print('total number of job type', train.job_type.nunique())\n",
        "print('total job type', train.job_type.unique())"
      ],
      "execution_count": 16,
      "outputs": [
        {
          "output_type": "stream",
          "text": [
            "total number of job type 6\n",
            "total job type ['Permanent' 'Contract/Interim' 'Contract/Temp' 'Any' 'Part-Time'\n",
            " 'Temporary/Seasonal']\n"
          ],
          "name": "stdout"
        }
      ]
    },
    {
      "cell_type": "code",
      "metadata": {
        "id": "ocBCdshK59H1",
        "outputId": "716ee294-26f8-4bdc-be25-231fc70c1cc1",
        "colab": {
          "base_uri": "https://localhost:8080/",
          "height": 126
        }
      },
      "source": [
        "#printing the information about predicting category.\n",
        "print('total number of category', train.category.nunique())\n",
        "print('total category', train.category.unique())"
      ],
      "execution_count": 17,
      "outputs": [
        {
          "output_type": "stream",
          "text": [
            "total number of category 11\n",
            "total category ['Pharmaceutical, Healthcare and Medical Sales' 'Clinical Research'\n",
            " 'Pharmaceutical Marketing' 'Manufacturing & Operations' 'Science'\n",
            " 'Medical Affairs / Pharmaceutical Physician' 'Regulatory Affairs'\n",
            " 'Medical Information and Pharmacovigilance'\n",
            " 'Data Management and Statistics' 'Quality-assurance' 'Pharmacy']\n"
          ],
          "name": "stdout"
        }
      ]
    },
    {
      "cell_type": "code",
      "metadata": {
        "id": "k-md-hAo6cOs",
        "outputId": "9e05e554-88c3-4847-b39e-4fbb0c10a358",
        "colab": {
          "base_uri": "https://localhost:8080/",
          "height": 235
        }
      },
      "source": [
        "#making the pedictive/dependent variable\n",
        "y=train['job_type']\n",
        "y"
      ],
      "execution_count": 18,
      "outputs": [
        {
          "output_type": "execute_result",
          "data": {
            "text/plain": [
              "0               Permanent\n",
              "1               Permanent\n",
              "2        Contract/Interim\n",
              "3               Permanent\n",
              "4               Permanent\n",
              "               ...       \n",
              "17652           Permanent\n",
              "17653           Permanent\n",
              "17654           Permanent\n",
              "17655           Permanent\n",
              "17656           Permanent\n",
              "Name: job_type, Length: 17657, dtype: object"
            ]
          },
          "metadata": {
            "tags": []
          },
          "execution_count": 18
        }
      ]
    },
    {
      "cell_type": "code",
      "metadata": {
        "id": "rpDevXP97PSL",
        "outputId": "92c6a4e5-5bb3-4dff-d283-6f1779360468",
        "colab": {
          "base_uri": "https://localhost:8080/",
          "height": 407
        }
      },
      "source": [
        "#making dataset of independent variables\n",
        "X=train.drop(['job_type', 'category'], axis=1)\n",
        "X"
      ],
      "execution_count": 19,
      "outputs": [
        {
          "output_type": "execute_result",
          "data": {
            "text/html": [
              "<div>\n",
              "<style scoped>\n",
              "    .dataframe tbody tr th:only-of-type {\n",
              "        vertical-align: middle;\n",
              "    }\n",
              "\n",
              "    .dataframe tbody tr th {\n",
              "        vertical-align: top;\n",
              "    }\n",
              "\n",
              "    .dataframe thead th {\n",
              "        text-align: right;\n",
              "    }\n",
              "</style>\n",
              "<table border=\"1\" class=\"dataframe\">\n",
              "  <thead>\n",
              "    <tr style=\"text-align: right;\">\n",
              "      <th></th>\n",
              "      <th>job_no</th>\n",
              "      <th>job_description</th>\n",
              "    </tr>\n",
              "  </thead>\n",
              "  <tbody>\n",
              "    <tr>\n",
              "      <th>0</th>\n",
              "      <td>Id-12765</td>\n",
              "      <td>Zest Scientific is searching for an accomplis...</td>\n",
              "    </tr>\n",
              "    <tr>\n",
              "      <th>1</th>\n",
              "      <td>Id-22925</td>\n",
              "      <td>En el mundo de los CRO's típicos, esta compañí...</td>\n",
              "    </tr>\n",
              "    <tr>\n",
              "      <th>2</th>\n",
              "      <td>Id-1321</td>\n",
              "      <td>Asha Mistry of Umbilical Life is recruiting an...</td>\n",
              "    </tr>\n",
              "    <tr>\n",
              "      <th>3</th>\n",
              "      <td>Id-9473</td>\n",
              "      <td>Sales Representative - Laser in der Medizinte...</td>\n",
              "    </tr>\n",
              "    <tr>\n",
              "      <th>4</th>\n",
              "      <td>Id-14952</td>\n",
              "      <td>Field Service Engineer - Life Science\\r\\r\\r\\nC...</td>\n",
              "    </tr>\n",
              "    <tr>\n",
              "      <th>...</th>\n",
              "      <td>...</td>\n",
              "      <td>...</td>\n",
              "    </tr>\n",
              "    <tr>\n",
              "      <th>17652</th>\n",
              "      <td>Id-1708</td>\n",
              "      <td>Evolve Selection are currently recruiting for ...</td>\n",
              "    </tr>\n",
              "    <tr>\n",
              "      <th>17653</th>\n",
              "      <td>Id-18516</td>\n",
              "      <td>Therapy Area: Respiratory\\r\\r\\r\\nPackage: Nego...</td>\n",
              "    </tr>\n",
              "    <tr>\n",
              "      <th>17654</th>\n",
              "      <td>Id-13531</td>\n",
              "      <td>COMPANY\\r\\r\\r\\nA specialised health economics ...</td>\n",
              "    </tr>\n",
              "    <tr>\n",
              "      <th>17655</th>\n",
              "      <td>Id-21805</td>\n",
              "      <td>Asha Mistry de Umbilical Life está reclutando ...</td>\n",
              "    </tr>\n",
              "    <tr>\n",
              "      <th>17656</th>\n",
              "      <td>Id-13021</td>\n",
              "      <td>Mid Size CRO - UK Homebased CRA\\r\\r\\r\\nI am cu...</td>\n",
              "    </tr>\n",
              "  </tbody>\n",
              "</table>\n",
              "<p>17657 rows × 2 columns</p>\n",
              "</div>"
            ],
            "text/plain": [
              "         job_no                                    job_description\n",
              "0      Id-12765   Zest Scientific is searching for an accomplis...\n",
              "1      Id-22925  En el mundo de los CRO's típicos, esta compañí...\n",
              "2       Id-1321  Asha Mistry of Umbilical Life is recruiting an...\n",
              "3       Id-9473   Sales Representative - Laser in der Medizinte...\n",
              "4      Id-14952  Field Service Engineer - Life Science\\r\\r\\r\\nC...\n",
              "...         ...                                                ...\n",
              "17652   Id-1708  Evolve Selection are currently recruiting for ...\n",
              "17653  Id-18516  Therapy Area: Respiratory\\r\\r\\r\\nPackage: Nego...\n",
              "17654  Id-13531  COMPANY\\r\\r\\r\\nA specialised health economics ...\n",
              "17655  Id-21805  Asha Mistry de Umbilical Life está reclutando ...\n",
              "17656  Id-13021  Mid Size CRO - UK Homebased CRA\\r\\r\\r\\nI am cu...\n",
              "\n",
              "[17657 rows x 2 columns]"
            ]
          },
          "metadata": {
            "tags": []
          },
          "execution_count": 19
        }
      ]
    },
    {
      "cell_type": "code",
      "metadata": {
        "id": "BtQ_JqwB7h_M"
      },
      "source": [
        "#Label encoding the dependent variable for feeding into the model\n",
        "enc=LabelEncoder()\n",
        "y=enc.fit_transform(y)\n",
        "y\n",
        "z=y.copy()"
      ],
      "execution_count": 20,
      "outputs": []
    },
    {
      "cell_type": "code",
      "metadata": {
        "id": "krKJ-6x9IvsU",
        "outputId": "fe34e645-c10f-49d9-b48d-860a7cffbc82",
        "colab": {
          "base_uri": "https://localhost:8080/",
          "height": 35
        }
      },
      "source": [
        " # function to get unique values \n",
        "def unique(list1): \n",
        "\tx = np.array(list1) \n",
        "\tprint(np.unique(x)) \n",
        "\t\n",
        " \n",
        "unique(z)"
      ],
      "execution_count": 21,
      "outputs": [
        {
          "output_type": "stream",
          "text": [
            "[0 1 2 3 4 5]\n"
          ],
          "name": "stdout"
        }
      ]
    },
    {
      "cell_type": "code",
      "metadata": {
        "id": "Ofu2_FuHSaFH"
      },
      "source": [
        "test.reset_index(inplace=True)\n"
      ],
      "execution_count": 22,
      "outputs": []
    },
    {
      "cell_type": "code",
      "metadata": {
        "id": "IK4FFCYX7wOE"
      },
      "source": [
        "#applying stemming and removing stopwords from the discription column of traing dataset\n",
        "ps = PorterStemmer()\n",
        "corpus = []\n",
        "for i in range(0, len(train)):\n",
        "    review = re.sub('[^a-zA-Z]', ' ', train['job_description'][i])\n",
        "    review = review.lower()\n",
        "    review = review.split()\n",
        "    \n",
        "    review = [ps.stem(word) for word in review if not word in stopwords.words('english')]\n",
        "    review = ' '.join(review)\n",
        "    corpus.append(review)"
      ],
      "execution_count": 23,
      "outputs": []
    },
    {
      "cell_type": "code",
      "metadata": {
        "id": "mPgWC_5R8nlj",
        "outputId": "60c174bc-359d-4d6e-ce01-7720dea32803",
        "colab": {
          "base_uri": "https://localhost:8080/",
          "height": 126
        }
      },
      "source": [
        "corpus[2]"
      ],
      "execution_count": 24,
      "outputs": [
        {
          "output_type": "execute_result",
          "data": {
            "application/vnd.google.colaboratory.intrinsic+json": {
              "type": "string"
            },
            "text/plain": [
              "'asha mistri umbil life recruit experienc account manag medic commun agenc base cheshir freelanc month contract great opportun work medic commun agenc work client pharmaceut sector got consider experi manag develop client account pharmaceut healthcar sector ideal candid signific account manag experi develop within medic commun agenc experi qualif life scienc degre prefer must educ degre level must experi within medic commun agenc healthcar advertis agenc least year account manag experi requir medic commun abl develop client relationship work close client budget deadlin must strong attent detail familiar varieti therapi area pleas note must elig work uk appli role find role pleas contact asha mistri umbil life email appli ref mistri fc'"
            ]
          },
          "metadata": {
            "tags": []
          },
          "execution_count": 24
        }
      ]
    },
    {
      "cell_type": "code",
      "metadata": {
        "id": "0DbfU9NJPDCk"
      },
      "source": [
        "#applying stemming and removing stopwords from the discription column of testing dataset\n",
        "ps = PorterStemmer()\n",
        "corpus1 = []\n",
        "for i in range(0, len(test)):\n",
        "    review = re.sub('[^a-zA-Z]', ' ', test['job_description'][i])\n",
        "    review = review.lower()\n",
        "    review = review.split()\n",
        "    \n",
        "    review = [ps.stem(word) for word in review if not word in stopwords.words('english')]\n",
        "    review = ' '.join(review)\n",
        "    corpus1.append(review)"
      ],
      "execution_count": 25,
      "outputs": []
    },
    {
      "cell_type": "code",
      "metadata": {
        "id": "sJoRHf6-b9t8",
        "outputId": "6a67e3d8-ed40-4cae-ef4e-ecb3c66fcf37",
        "colab": {
          "base_uri": "https://localhost:8080/",
          "height": 145
        }
      },
      "source": [
        "corpus1[2]"
      ],
      "execution_count": 26,
      "outputs": [
        {
          "output_type": "execute_result",
          "data": {
            "application/vnd.google.colaboratory.intrinsic+json": {
              "type": "string"
            },
            "text/plain": [
              "'rbw consult work partnership specialist biometr consult look experienc princip statistician work remot uk join expand team focu provid high qualiti support across biometr regulatori affair qualiti assur great time join compani team specialist pride qualiti work flexibl approach client need compani look princip statistician enjoy work across rang therapeut area opportun work interest excit project number pharmaceut biotech client client would like hear least year experi biostatist clinic environ degre statist mathemat comput relat disciplin pleas see select respons wish find detail happi answer question may respons includ project manag act main point contact assign project provid strateg advic client matter concern statist need perform statist activ statist consult sap develop sa program produc efficaci safeti tabl list figur analys minimum requir msc phd statist relat field good clinic practic gcp intern confer harmon ich guidelin previou leadership experi team sub team profici use cdisc sdtm adam strong work knowledg sa find fantast opportun pleas contact geoff king rbw consult rbw consult llp everi one consult benefit five year experi help pharmaceut profession find job look industri unrival industri knowledg excel link hire manag biotech pharma cro throughout uk europ across world would delight speak role look appli ref vr'"
            ]
          },
          "metadata": {
            "tags": []
          },
          "execution_count": 26
        }
      ]
    },
    {
      "cell_type": "code",
      "metadata": {
        "id": "duvhBd5pln97",
        "outputId": "45db051f-37ad-4390-91ec-05253a19861f",
        "colab": {
          "base_uri": "https://localhost:8080/",
          "height": 35
        }
      },
      "source": [
        "test.shape"
      ],
      "execution_count": 27,
      "outputs": [
        {
          "output_type": "execute_result",
          "data": {
            "text/plain": [
              "(11771, 3)"
            ]
          },
          "metadata": {
            "tags": []
          },
          "execution_count": 27
        }
      ]
    },
    {
      "cell_type": "code",
      "metadata": {
        "id": "EJbf0sE0no1Z"
      },
      "source": [
        ""
      ],
      "execution_count": 27,
      "outputs": []
    },
    {
      "cell_type": "code",
      "metadata": {
        "id": "dV-4mwo6Ar4M"
      },
      "source": [
        "#Applying Tfidf Vectorizer to train dataset\n",
        "tfidf_v=TfidfVectorizer(max_features=10000,ngram_range=(1,5))\n",
        "X_train = tfidf_v.fit_transform(corpus).toarray()"
      ],
      "execution_count": 28,
      "outputs": []
    },
    {
      "cell_type": "code",
      "metadata": {
        "id": "vOzWA9oSoN6E",
        "outputId": "93067a9f-56aa-4a53-b4f7-55a9a51b139d",
        "colab": {
          "base_uri": "https://localhost:8080/",
          "height": 35
        }
      },
      "source": [
        "X_train.shape"
      ],
      "execution_count": 29,
      "outputs": [
        {
          "output_type": "execute_result",
          "data": {
            "text/plain": [
              "(17657, 10000)"
            ]
          },
          "metadata": {
            "tags": []
          },
          "execution_count": 29
        }
      ]
    },
    {
      "cell_type": "code",
      "metadata": {
        "id": "pVtEiR_VeY-X"
      },
      "source": [
        "#Applying tfidf Vectorizer to train dataset\n",
        "tfidf_v1=TfidfVectorizer(max_features=10000,ngram_range=(1,5))\n",
        "M_test = tfidf_v1.fit_transform(corpus1).toarray()"
      ],
      "execution_count": 30,
      "outputs": []
    },
    {
      "cell_type": "code",
      "metadata": {
        "id": "DmZB6ixQoJfq",
        "outputId": "cb28d0ba-7669-4f23-fd1c-36090d29856d",
        "colab": {
          "base_uri": "https://localhost:8080/",
          "height": 35
        }
      },
      "source": [
        "M_test.shape"
      ],
      "execution_count": 31,
      "outputs": [
        {
          "output_type": "execute_result",
          "data": {
            "text/plain": [
              "(11771, 10000)"
            ]
          },
          "metadata": {
            "tags": []
          },
          "execution_count": 31
        }
      ]
    },
    {
      "cell_type": "code",
      "metadata": {
        "id": "7XGWotp-BZHf"
      },
      "source": [
        "#Making a copy of dependent variable\n",
        "y_train=y.copy()"
      ],
      "execution_count": 32,
      "outputs": []
    },
    {
      "cell_type": "code",
      "metadata": {
        "id": "1Q3GIlGJBrKC",
        "outputId": "07673bca-fc7d-44b8-92df-02a4d5d9aa78",
        "colab": {
          "base_uri": "https://localhost:8080/",
          "height": 381
        }
      },
      "source": [
        "#getting the feature names \n",
        "tfidf_v.get_feature_names()[:20]"
      ],
      "execution_count": 33,
      "outputs": [
        {
          "output_type": "execute_result",
          "data": {
            "text/plain": [
              "['ab',\n",
              " 'aber',\n",
              " 'aber nicht',\n",
              " 'abil',\n",
              " 'abil adapt',\n",
              " 'abil build',\n",
              " 'abil commun',\n",
              " 'abil develop',\n",
              " 'abil drive',\n",
              " 'abil drive requir',\n",
              " 'abil drive requir role',\n",
              " 'abil drive requir role would',\n",
              " 'abil grow',\n",
              " 'abil grow higher',\n",
              " 'abil grow higher role',\n",
              " 'abil grow higher role futur',\n",
              " 'abil lead',\n",
              " 'abil manag',\n",
              " 'abil travel',\n",
              " 'abil understand']"
            ]
          },
          "metadata": {
            "tags": []
          },
          "execution_count": 33
        }
      ]
    },
    {
      "cell_type": "code",
      "metadata": {
        "id": "-TqrWvaGBufV",
        "outputId": "fb37f444-c962-420e-f5b7-6add25637bb8",
        "colab": {
          "base_uri": "https://localhost:8080/",
          "height": 399
        }
      },
      "source": [
        "#getting the params \n",
        "tfidf_v.get_params()"
      ],
      "execution_count": 34,
      "outputs": [
        {
          "output_type": "execute_result",
          "data": {
            "text/plain": [
              "{'analyzer': 'word',\n",
              " 'binary': False,\n",
              " 'decode_error': 'strict',\n",
              " 'dtype': numpy.float64,\n",
              " 'encoding': 'utf-8',\n",
              " 'input': 'content',\n",
              " 'lowercase': True,\n",
              " 'max_df': 1.0,\n",
              " 'max_features': 10000,\n",
              " 'min_df': 1,\n",
              " 'ngram_range': (1, 5),\n",
              " 'norm': 'l2',\n",
              " 'preprocessor': None,\n",
              " 'smooth_idf': True,\n",
              " 'stop_words': None,\n",
              " 'strip_accents': None,\n",
              " 'sublinear_tf': False,\n",
              " 'token_pattern': '(?u)\\\\b\\\\w\\\\w+\\\\b',\n",
              " 'tokenizer': None,\n",
              " 'use_idf': True,\n",
              " 'vocabulary': None}"
            ]
          },
          "metadata": {
            "tags": []
          },
          "execution_count": 34
        }
      ]
    },
    {
      "cell_type": "code",
      "metadata": {
        "id": "Ni4vbUEyB0O6",
        "outputId": "ecc44c86-f597-44a1-d4f8-da1e05be56e8",
        "colab": {
          "base_uri": "https://localhost:8080/",
          "height": 316
        }
      },
      "source": [
        "#making the dataframe from the vectorized data\n",
        "count_df = pd.DataFrame(X_train, columns=tfidf_v.get_feature_names())\n",
        "count_df.head()"
      ],
      "execution_count": 35,
      "outputs": [
        {
          "output_type": "execute_result",
          "data": {
            "text/html": [
              "<div>\n",
              "<style scoped>\n",
              "    .dataframe tbody tr th:only-of-type {\n",
              "        vertical-align: middle;\n",
              "    }\n",
              "\n",
              "    .dataframe tbody tr th {\n",
              "        vertical-align: top;\n",
              "    }\n",
              "\n",
              "    .dataframe thead th {\n",
              "        text-align: right;\n",
              "    }\n",
              "</style>\n",
              "<table border=\"1\" class=\"dataframe\">\n",
              "  <thead>\n",
              "    <tr style=\"text-align: right;\">\n",
              "      <th></th>\n",
              "      <th>ab</th>\n",
              "      <th>aber</th>\n",
              "      <th>aber nicht</th>\n",
              "      <th>abil</th>\n",
              "      <th>abil adapt</th>\n",
              "      <th>abil build</th>\n",
              "      <th>abil commun</th>\n",
              "      <th>abil develop</th>\n",
              "      <th>abil drive</th>\n",
              "      <th>abil drive requir</th>\n",
              "      <th>abil drive requir role</th>\n",
              "      <th>abil drive requir role would</th>\n",
              "      <th>abil grow</th>\n",
              "      <th>abil grow higher</th>\n",
              "      <th>abil grow higher role</th>\n",
              "      <th>abil grow higher role futur</th>\n",
              "      <th>abil lead</th>\n",
              "      <th>abil manag</th>\n",
              "      <th>abil travel</th>\n",
              "      <th>abil understand</th>\n",
              "      <th>abil work</th>\n",
              "      <th>abil work home</th>\n",
              "      <th>abil work home competit</th>\n",
              "      <th>abil work home competit pay</th>\n",
              "      <th>abil work independ</th>\n",
              "      <th>abl</th>\n",
              "      <th>abl demonstr</th>\n",
              "      <th>abl develop</th>\n",
              "      <th>abl influenc</th>\n",
              "      <th>abl influenc nh</th>\n",
              "      <th>abl influenc nh staff</th>\n",
              "      <th>abl influenc nh staff highest</th>\n",
              "      <th>abl work</th>\n",
              "      <th>abpi</th>\n",
              "      <th>abpi code</th>\n",
              "      <th>abpi code practic</th>\n",
              "      <th>abpi qualifi</th>\n",
              "      <th>abschluss</th>\n",
              "      <th>abteilung</th>\n",
              "      <th>abteilungen</th>\n",
              "      <th>...</th>\n",
              "      <th>year experi within</th>\n",
              "      <th>year experi work</th>\n",
              "      <th>year experi write</th>\n",
              "      <th>year experi write regulatori</th>\n",
              "      <th>year experi write regulatori document</th>\n",
              "      <th>year gap</th>\n",
              "      <th>year gap month</th>\n",
              "      <th>year gap month explain</th>\n",
              "      <th>year gap month explain ck</th>\n",
              "      <th>year medic</th>\n",
              "      <th>year medic write</th>\n",
              "      <th>year regulatori</th>\n",
              "      <th>year relev</th>\n",
              "      <th>year relev experi</th>\n",
              "      <th>year year</th>\n",
              "      <th>york</th>\n",
              "      <th>yorkshir</th>\n",
              "      <th>young</th>\n",
              "      <th>zeit</th>\n",
              "      <th>ziel</th>\n",
              "      <th>zone</th>\n",
              "      <th>zu</th>\n",
              "      <th>zu arbeiten</th>\n",
              "      <th>zu bewerben</th>\n",
              "      <th>zu den</th>\n",
              "      <th>zu entwickeln</th>\n",
              "      <th>zu erfahren</th>\n",
              "      <th>zu erreichen</th>\n",
              "      <th>zu gew</th>\n",
              "      <th>zu gew hrleisten</th>\n",
              "      <th>zu haus</th>\n",
              "      <th>zu sein</th>\n",
              "      <th>zu unterst</th>\n",
              "      <th>zu unterst tzen</th>\n",
              "      <th>zu werden</th>\n",
              "      <th>zum</th>\n",
              "      <th>zur</th>\n",
              "      <th>zusammen</th>\n",
              "      <th>zusammenarbeit</th>\n",
              "      <th>zusammenarbeit mit</th>\n",
              "    </tr>\n",
              "  </thead>\n",
              "  <tbody>\n",
              "    <tr>\n",
              "      <th>0</th>\n",
              "      <td>0.0</td>\n",
              "      <td>0.0</td>\n",
              "      <td>0.0</td>\n",
              "      <td>0.035243</td>\n",
              "      <td>0.0</td>\n",
              "      <td>0.0</td>\n",
              "      <td>0.000000</td>\n",
              "      <td>0.0</td>\n",
              "      <td>0.0</td>\n",
              "      <td>0.0</td>\n",
              "      <td>0.0</td>\n",
              "      <td>0.0</td>\n",
              "      <td>0.0</td>\n",
              "      <td>0.0</td>\n",
              "      <td>0.0</td>\n",
              "      <td>0.0</td>\n",
              "      <td>0.0</td>\n",
              "      <td>0.0</td>\n",
              "      <td>0.0</td>\n",
              "      <td>0.0</td>\n",
              "      <td>0.0</td>\n",
              "      <td>0.0</td>\n",
              "      <td>0.0</td>\n",
              "      <td>0.0</td>\n",
              "      <td>0.0</td>\n",
              "      <td>0.000000</td>\n",
              "      <td>0.0</td>\n",
              "      <td>0.000000</td>\n",
              "      <td>0.0</td>\n",
              "      <td>0.0</td>\n",
              "      <td>0.0</td>\n",
              "      <td>0.0</td>\n",
              "      <td>0.0</td>\n",
              "      <td>0.0</td>\n",
              "      <td>0.0</td>\n",
              "      <td>0.0</td>\n",
              "      <td>0.0</td>\n",
              "      <td>0.0</td>\n",
              "      <td>0.0</td>\n",
              "      <td>0.0</td>\n",
              "      <td>...</td>\n",
              "      <td>0.0</td>\n",
              "      <td>0.0</td>\n",
              "      <td>0.0</td>\n",
              "      <td>0.0</td>\n",
              "      <td>0.0</td>\n",
              "      <td>0.0</td>\n",
              "      <td>0.0</td>\n",
              "      <td>0.0</td>\n",
              "      <td>0.0</td>\n",
              "      <td>0.0</td>\n",
              "      <td>0.0</td>\n",
              "      <td>0.0</td>\n",
              "      <td>0.0</td>\n",
              "      <td>0.0</td>\n",
              "      <td>0.0</td>\n",
              "      <td>0.0</td>\n",
              "      <td>0.0</td>\n",
              "      <td>0.0</td>\n",
              "      <td>0.0</td>\n",
              "      <td>0.0</td>\n",
              "      <td>0.0</td>\n",
              "      <td>0.0</td>\n",
              "      <td>0.0</td>\n",
              "      <td>0.0</td>\n",
              "      <td>0.0</td>\n",
              "      <td>0.0</td>\n",
              "      <td>0.0</td>\n",
              "      <td>0.0</td>\n",
              "      <td>0.0</td>\n",
              "      <td>0.0</td>\n",
              "      <td>0.0</td>\n",
              "      <td>0.0</td>\n",
              "      <td>0.0</td>\n",
              "      <td>0.0</td>\n",
              "      <td>0.0</td>\n",
              "      <td>0.0</td>\n",
              "      <td>0.0</td>\n",
              "      <td>0.0</td>\n",
              "      <td>0.0</td>\n",
              "      <td>0.0</td>\n",
              "    </tr>\n",
              "    <tr>\n",
              "      <th>1</th>\n",
              "      <td>0.0</td>\n",
              "      <td>0.0</td>\n",
              "      <td>0.0</td>\n",
              "      <td>0.000000</td>\n",
              "      <td>0.0</td>\n",
              "      <td>0.0</td>\n",
              "      <td>0.000000</td>\n",
              "      <td>0.0</td>\n",
              "      <td>0.0</td>\n",
              "      <td>0.0</td>\n",
              "      <td>0.0</td>\n",
              "      <td>0.0</td>\n",
              "      <td>0.0</td>\n",
              "      <td>0.0</td>\n",
              "      <td>0.0</td>\n",
              "      <td>0.0</td>\n",
              "      <td>0.0</td>\n",
              "      <td>0.0</td>\n",
              "      <td>0.0</td>\n",
              "      <td>0.0</td>\n",
              "      <td>0.0</td>\n",
              "      <td>0.0</td>\n",
              "      <td>0.0</td>\n",
              "      <td>0.0</td>\n",
              "      <td>0.0</td>\n",
              "      <td>0.000000</td>\n",
              "      <td>0.0</td>\n",
              "      <td>0.000000</td>\n",
              "      <td>0.0</td>\n",
              "      <td>0.0</td>\n",
              "      <td>0.0</td>\n",
              "      <td>0.0</td>\n",
              "      <td>0.0</td>\n",
              "      <td>0.0</td>\n",
              "      <td>0.0</td>\n",
              "      <td>0.0</td>\n",
              "      <td>0.0</td>\n",
              "      <td>0.0</td>\n",
              "      <td>0.0</td>\n",
              "      <td>0.0</td>\n",
              "      <td>...</td>\n",
              "      <td>0.0</td>\n",
              "      <td>0.0</td>\n",
              "      <td>0.0</td>\n",
              "      <td>0.0</td>\n",
              "      <td>0.0</td>\n",
              "      <td>0.0</td>\n",
              "      <td>0.0</td>\n",
              "      <td>0.0</td>\n",
              "      <td>0.0</td>\n",
              "      <td>0.0</td>\n",
              "      <td>0.0</td>\n",
              "      <td>0.0</td>\n",
              "      <td>0.0</td>\n",
              "      <td>0.0</td>\n",
              "      <td>0.0</td>\n",
              "      <td>0.0</td>\n",
              "      <td>0.0</td>\n",
              "      <td>0.0</td>\n",
              "      <td>0.0</td>\n",
              "      <td>0.0</td>\n",
              "      <td>0.0</td>\n",
              "      <td>0.0</td>\n",
              "      <td>0.0</td>\n",
              "      <td>0.0</td>\n",
              "      <td>0.0</td>\n",
              "      <td>0.0</td>\n",
              "      <td>0.0</td>\n",
              "      <td>0.0</td>\n",
              "      <td>0.0</td>\n",
              "      <td>0.0</td>\n",
              "      <td>0.0</td>\n",
              "      <td>0.0</td>\n",
              "      <td>0.0</td>\n",
              "      <td>0.0</td>\n",
              "      <td>0.0</td>\n",
              "      <td>0.0</td>\n",
              "      <td>0.0</td>\n",
              "      <td>0.0</td>\n",
              "      <td>0.0</td>\n",
              "      <td>0.0</td>\n",
              "    </tr>\n",
              "    <tr>\n",
              "      <th>2</th>\n",
              "      <td>0.0</td>\n",
              "      <td>0.0</td>\n",
              "      <td>0.0</td>\n",
              "      <td>0.000000</td>\n",
              "      <td>0.0</td>\n",
              "      <td>0.0</td>\n",
              "      <td>0.000000</td>\n",
              "      <td>0.0</td>\n",
              "      <td>0.0</td>\n",
              "      <td>0.0</td>\n",
              "      <td>0.0</td>\n",
              "      <td>0.0</td>\n",
              "      <td>0.0</td>\n",
              "      <td>0.0</td>\n",
              "      <td>0.0</td>\n",
              "      <td>0.0</td>\n",
              "      <td>0.0</td>\n",
              "      <td>0.0</td>\n",
              "      <td>0.0</td>\n",
              "      <td>0.0</td>\n",
              "      <td>0.0</td>\n",
              "      <td>0.0</td>\n",
              "      <td>0.0</td>\n",
              "      <td>0.0</td>\n",
              "      <td>0.0</td>\n",
              "      <td>0.037658</td>\n",
              "      <td>0.0</td>\n",
              "      <td>0.069103</td>\n",
              "      <td>0.0</td>\n",
              "      <td>0.0</td>\n",
              "      <td>0.0</td>\n",
              "      <td>0.0</td>\n",
              "      <td>0.0</td>\n",
              "      <td>0.0</td>\n",
              "      <td>0.0</td>\n",
              "      <td>0.0</td>\n",
              "      <td>0.0</td>\n",
              "      <td>0.0</td>\n",
              "      <td>0.0</td>\n",
              "      <td>0.0</td>\n",
              "      <td>...</td>\n",
              "      <td>0.0</td>\n",
              "      <td>0.0</td>\n",
              "      <td>0.0</td>\n",
              "      <td>0.0</td>\n",
              "      <td>0.0</td>\n",
              "      <td>0.0</td>\n",
              "      <td>0.0</td>\n",
              "      <td>0.0</td>\n",
              "      <td>0.0</td>\n",
              "      <td>0.0</td>\n",
              "      <td>0.0</td>\n",
              "      <td>0.0</td>\n",
              "      <td>0.0</td>\n",
              "      <td>0.0</td>\n",
              "      <td>0.0</td>\n",
              "      <td>0.0</td>\n",
              "      <td>0.0</td>\n",
              "      <td>0.0</td>\n",
              "      <td>0.0</td>\n",
              "      <td>0.0</td>\n",
              "      <td>0.0</td>\n",
              "      <td>0.0</td>\n",
              "      <td>0.0</td>\n",
              "      <td>0.0</td>\n",
              "      <td>0.0</td>\n",
              "      <td>0.0</td>\n",
              "      <td>0.0</td>\n",
              "      <td>0.0</td>\n",
              "      <td>0.0</td>\n",
              "      <td>0.0</td>\n",
              "      <td>0.0</td>\n",
              "      <td>0.0</td>\n",
              "      <td>0.0</td>\n",
              "      <td>0.0</td>\n",
              "      <td>0.0</td>\n",
              "      <td>0.0</td>\n",
              "      <td>0.0</td>\n",
              "      <td>0.0</td>\n",
              "      <td>0.0</td>\n",
              "      <td>0.0</td>\n",
              "    </tr>\n",
              "    <tr>\n",
              "      <th>3</th>\n",
              "      <td>0.0</td>\n",
              "      <td>0.0</td>\n",
              "      <td>0.0</td>\n",
              "      <td>0.000000</td>\n",
              "      <td>0.0</td>\n",
              "      <td>0.0</td>\n",
              "      <td>0.000000</td>\n",
              "      <td>0.0</td>\n",
              "      <td>0.0</td>\n",
              "      <td>0.0</td>\n",
              "      <td>0.0</td>\n",
              "      <td>0.0</td>\n",
              "      <td>0.0</td>\n",
              "      <td>0.0</td>\n",
              "      <td>0.0</td>\n",
              "      <td>0.0</td>\n",
              "      <td>0.0</td>\n",
              "      <td>0.0</td>\n",
              "      <td>0.0</td>\n",
              "      <td>0.0</td>\n",
              "      <td>0.0</td>\n",
              "      <td>0.0</td>\n",
              "      <td>0.0</td>\n",
              "      <td>0.0</td>\n",
              "      <td>0.0</td>\n",
              "      <td>0.000000</td>\n",
              "      <td>0.0</td>\n",
              "      <td>0.000000</td>\n",
              "      <td>0.0</td>\n",
              "      <td>0.0</td>\n",
              "      <td>0.0</td>\n",
              "      <td>0.0</td>\n",
              "      <td>0.0</td>\n",
              "      <td>0.0</td>\n",
              "      <td>0.0</td>\n",
              "      <td>0.0</td>\n",
              "      <td>0.0</td>\n",
              "      <td>0.0</td>\n",
              "      <td>0.0</td>\n",
              "      <td>0.0</td>\n",
              "      <td>...</td>\n",
              "      <td>0.0</td>\n",
              "      <td>0.0</td>\n",
              "      <td>0.0</td>\n",
              "      <td>0.0</td>\n",
              "      <td>0.0</td>\n",
              "      <td>0.0</td>\n",
              "      <td>0.0</td>\n",
              "      <td>0.0</td>\n",
              "      <td>0.0</td>\n",
              "      <td>0.0</td>\n",
              "      <td>0.0</td>\n",
              "      <td>0.0</td>\n",
              "      <td>0.0</td>\n",
              "      <td>0.0</td>\n",
              "      <td>0.0</td>\n",
              "      <td>0.0</td>\n",
              "      <td>0.0</td>\n",
              "      <td>0.0</td>\n",
              "      <td>0.0</td>\n",
              "      <td>0.0</td>\n",
              "      <td>0.0</td>\n",
              "      <td>0.0</td>\n",
              "      <td>0.0</td>\n",
              "      <td>0.0</td>\n",
              "      <td>0.0</td>\n",
              "      <td>0.0</td>\n",
              "      <td>0.0</td>\n",
              "      <td>0.0</td>\n",
              "      <td>0.0</td>\n",
              "      <td>0.0</td>\n",
              "      <td>0.0</td>\n",
              "      <td>0.0</td>\n",
              "      <td>0.0</td>\n",
              "      <td>0.0</td>\n",
              "      <td>0.0</td>\n",
              "      <td>0.0</td>\n",
              "      <td>0.0</td>\n",
              "      <td>0.0</td>\n",
              "      <td>0.0</td>\n",
              "      <td>0.0</td>\n",
              "    </tr>\n",
              "    <tr>\n",
              "      <th>4</th>\n",
              "      <td>0.0</td>\n",
              "      <td>0.0</td>\n",
              "      <td>0.0</td>\n",
              "      <td>0.029853</td>\n",
              "      <td>0.0</td>\n",
              "      <td>0.0</td>\n",
              "      <td>0.068834</td>\n",
              "      <td>0.0</td>\n",
              "      <td>0.0</td>\n",
              "      <td>0.0</td>\n",
              "      <td>0.0</td>\n",
              "      <td>0.0</td>\n",
              "      <td>0.0</td>\n",
              "      <td>0.0</td>\n",
              "      <td>0.0</td>\n",
              "      <td>0.0</td>\n",
              "      <td>0.0</td>\n",
              "      <td>0.0</td>\n",
              "      <td>0.0</td>\n",
              "      <td>0.0</td>\n",
              "      <td>0.0</td>\n",
              "      <td>0.0</td>\n",
              "      <td>0.0</td>\n",
              "      <td>0.0</td>\n",
              "      <td>0.0</td>\n",
              "      <td>0.000000</td>\n",
              "      <td>0.0</td>\n",
              "      <td>0.000000</td>\n",
              "      <td>0.0</td>\n",
              "      <td>0.0</td>\n",
              "      <td>0.0</td>\n",
              "      <td>0.0</td>\n",
              "      <td>0.0</td>\n",
              "      <td>0.0</td>\n",
              "      <td>0.0</td>\n",
              "      <td>0.0</td>\n",
              "      <td>0.0</td>\n",
              "      <td>0.0</td>\n",
              "      <td>0.0</td>\n",
              "      <td>0.0</td>\n",
              "      <td>...</td>\n",
              "      <td>0.0</td>\n",
              "      <td>0.0</td>\n",
              "      <td>0.0</td>\n",
              "      <td>0.0</td>\n",
              "      <td>0.0</td>\n",
              "      <td>0.0</td>\n",
              "      <td>0.0</td>\n",
              "      <td>0.0</td>\n",
              "      <td>0.0</td>\n",
              "      <td>0.0</td>\n",
              "      <td>0.0</td>\n",
              "      <td>0.0</td>\n",
              "      <td>0.0</td>\n",
              "      <td>0.0</td>\n",
              "      <td>0.0</td>\n",
              "      <td>0.0</td>\n",
              "      <td>0.0</td>\n",
              "      <td>0.0</td>\n",
              "      <td>0.0</td>\n",
              "      <td>0.0</td>\n",
              "      <td>0.0</td>\n",
              "      <td>0.0</td>\n",
              "      <td>0.0</td>\n",
              "      <td>0.0</td>\n",
              "      <td>0.0</td>\n",
              "      <td>0.0</td>\n",
              "      <td>0.0</td>\n",
              "      <td>0.0</td>\n",
              "      <td>0.0</td>\n",
              "      <td>0.0</td>\n",
              "      <td>0.0</td>\n",
              "      <td>0.0</td>\n",
              "      <td>0.0</td>\n",
              "      <td>0.0</td>\n",
              "      <td>0.0</td>\n",
              "      <td>0.0</td>\n",
              "      <td>0.0</td>\n",
              "      <td>0.0</td>\n",
              "      <td>0.0</td>\n",
              "      <td>0.0</td>\n",
              "    </tr>\n",
              "  </tbody>\n",
              "</table>\n",
              "<p>5 rows × 10000 columns</p>\n",
              "</div>"
            ],
            "text/plain": [
              "    ab  aber  aber nicht  ...  zusammen  zusammenarbeit  zusammenarbeit mit\n",
              "0  0.0   0.0         0.0  ...       0.0             0.0                 0.0\n",
              "1  0.0   0.0         0.0  ...       0.0             0.0                 0.0\n",
              "2  0.0   0.0         0.0  ...       0.0             0.0                 0.0\n",
              "3  0.0   0.0         0.0  ...       0.0             0.0                 0.0\n",
              "4  0.0   0.0         0.0  ...       0.0             0.0                 0.0\n",
              "\n",
              "[5 rows x 10000 columns]"
            ]
          },
          "metadata": {
            "tags": []
          },
          "execution_count": 35
        }
      ]
    },
    {
      "cell_type": "code",
      "metadata": {
        "id": "o5m7uwgFCA_a"
      },
      "source": [
        "#Applying MultinomialNaive Bayes classifier to get the job type\n",
        "classifier=MultinomialNB(alpha=0.6, fit_prior=True, class_prior=None)\n",
        "classifier.fit(X_train, y_train)\n",
        "pred = classifier.predict(M_test)\n"
      ],
      "execution_count": 36,
      "outputs": []
    },
    {
      "cell_type": "code",
      "metadata": {
        "id": "2HU1seiQkyX0",
        "outputId": "ddf36729-bbb2-4d1f-f8cb-e683ddd462d7",
        "colab": {
          "base_uri": "https://localhost:8080/",
          "height": 35
        }
      },
      "source": [
        "pred.shape"
      ],
      "execution_count": 37,
      "outputs": [
        {
          "output_type": "execute_result",
          "data": {
            "text/plain": [
              "(11771,)"
            ]
          },
          "metadata": {
            "tags": []
          },
          "execution_count": 37
        }
      ]
    },
    {
      "cell_type": "code",
      "metadata": {
        "id": "j2fwjxK5Dl_J",
        "outputId": "c333d803-6fc9-44f1-f658-295112ac9b5a",
        "colab": {
          "base_uri": "https://localhost:8080/",
          "height": 108
        }
      },
      "source": [
        "#printing the predicted results\n",
        "pred[0:100]"
      ],
      "execution_count": 38,
      "outputs": [
        {
          "output_type": "execute_result",
          "data": {
            "text/plain": [
              "array([4, 5, 4, 5, 4, 4, 4, 4, 4, 5, 4, 4, 4, 4, 4, 4, 0, 4, 4, 5, 5, 5,\n",
              "       5, 4, 4, 4, 4, 5, 4, 5, 4, 4, 4, 5, 4, 5, 4, 4, 4, 4, 4, 4, 4, 4,\n",
              "       4, 5, 4, 4, 4, 4, 0, 4, 4, 5, 5, 4, 4, 4, 4, 4, 5, 4, 4, 5, 4, 4,\n",
              "       4, 4, 0, 5, 4, 4, 4, 5, 4, 4, 5, 4, 4, 4, 4, 4, 4, 4, 4, 4, 4, 0,\n",
              "       4, 4, 4, 5, 4, 4, 5, 4, 4, 0, 4, 5])"
            ]
          },
          "metadata": {
            "tags": []
          },
          "execution_count": 38
        }
      ]
    },
    {
      "cell_type": "code",
      "metadata": {
        "id": "Bv6lACT8fwKV",
        "outputId": "bbfc77fb-70b2-4634-96cd-6c0bea0c7b89",
        "colab": {
          "base_uri": "https://localhost:8080/",
          "height": 417
        }
      },
      "source": [
        "#inverting the encoding to get the result in understandable form\n",
        "pred_type = enc.inverse_transform(pred)\n",
        "print(pred_type[0:100])"
      ],
      "execution_count": 39,
      "outputs": [
        {
          "output_type": "stream",
          "text": [
            "['Permanent' 'Temporary/Seasonal' 'Permanent' 'Temporary/Seasonal'\n",
            " 'Permanent' 'Permanent' 'Permanent' 'Permanent' 'Permanent'\n",
            " 'Temporary/Seasonal' 'Permanent' 'Permanent' 'Permanent' 'Permanent'\n",
            " 'Permanent' 'Permanent' 'Any' 'Permanent' 'Permanent'\n",
            " 'Temporary/Seasonal' 'Temporary/Seasonal' 'Temporary/Seasonal'\n",
            " 'Temporary/Seasonal' 'Permanent' 'Permanent' 'Permanent' 'Permanent'\n",
            " 'Temporary/Seasonal' 'Permanent' 'Temporary/Seasonal' 'Permanent'\n",
            " 'Permanent' 'Permanent' 'Temporary/Seasonal' 'Permanent'\n",
            " 'Temporary/Seasonal' 'Permanent' 'Permanent' 'Permanent' 'Permanent'\n",
            " 'Permanent' 'Permanent' 'Permanent' 'Permanent' 'Permanent'\n",
            " 'Temporary/Seasonal' 'Permanent' 'Permanent' 'Permanent' 'Permanent'\n",
            " 'Any' 'Permanent' 'Permanent' 'Temporary/Seasonal' 'Temporary/Seasonal'\n",
            " 'Permanent' 'Permanent' 'Permanent' 'Permanent' 'Permanent'\n",
            " 'Temporary/Seasonal' 'Permanent' 'Permanent' 'Temporary/Seasonal'\n",
            " 'Permanent' 'Permanent' 'Permanent' 'Permanent' 'Any'\n",
            " 'Temporary/Seasonal' 'Permanent' 'Permanent' 'Permanent'\n",
            " 'Temporary/Seasonal' 'Permanent' 'Permanent' 'Temporary/Seasonal'\n",
            " 'Permanent' 'Permanent' 'Permanent' 'Permanent' 'Permanent' 'Permanent'\n",
            " 'Permanent' 'Permanent' 'Permanent' 'Permanent' 'Any' 'Permanent'\n",
            " 'Permanent' 'Permanent' 'Temporary/Seasonal' 'Permanent' 'Permanent'\n",
            " 'Temporary/Seasonal' 'Permanent' 'Permanent' 'Any' 'Permanent'\n",
            " 'Temporary/Seasonal']\n"
          ],
          "name": "stdout"
        }
      ]
    },
    {
      "cell_type": "code",
      "metadata": {
        "id": "l2vslFNqBG9S",
        "outputId": "086227cc-d79e-49f8-d47a-e59b5f72d2b4",
        "colab": {
          "base_uri": "https://localhost:8080/",
          "height": 235
        }
      },
      "source": [
        "#making category as the dependent variable for predicting it.\n",
        "z=train['category']\n",
        "z"
      ],
      "execution_count": 40,
      "outputs": [
        {
          "output_type": "execute_result",
          "data": {
            "text/plain": [
              "0        Pharmaceutical, Healthcare and Medical Sales\n",
              "1                                   Clinical Research\n",
              "2                            Pharmaceutical Marketing\n",
              "3        Pharmaceutical, Healthcare and Medical Sales\n",
              "4                          Manufacturing & Operations\n",
              "                             ...                     \n",
              "17652                      Manufacturing & Operations\n",
              "17653                                         Science\n",
              "17654       Medical Information and Pharmacovigilance\n",
              "17655                               Clinical Research\n",
              "17656                               Clinical Research\n",
              "Name: category, Length: 17657, dtype: object"
            ]
          },
          "metadata": {
            "tags": []
          },
          "execution_count": 40
        }
      ]
    },
    {
      "cell_type": "code",
      "metadata": {
        "id": "HsCgJmj7CKDL"
      },
      "source": [
        "#applyng Label encoder again to dependent variable to feed it in to the model.\n",
        "c=LabelEncoder()\n",
        "z=c.fit_transform(z)"
      ],
      "execution_count": 41,
      "outputs": []
    },
    {
      "cell_type": "code",
      "metadata": {
        "id": "-mgOsfE3Cqpe",
        "outputId": "61114711-5c24-4763-f841-0a424acab1a4",
        "colab": {
          "base_uri": "https://localhost:8080/",
          "height": 35
        }
      },
      "source": [
        "#making a copy of dependent variable\n",
        "z_train=z.copy()\n",
        "z_train"
      ],
      "execution_count": 42,
      "outputs": [
        {
          "output_type": "execute_result",
          "data": {
            "text/plain": [
              "array([6, 0, 5, ..., 4, 0, 0])"
            ]
          },
          "metadata": {
            "tags": []
          },
          "execution_count": 42
        }
      ]
    },
    {
      "cell_type": "code",
      "metadata": {
        "id": "zVk61s-SC7gW"
      },
      "source": [
        "#Applying MultinomialNaive Bayes classifier to get the job type\n",
        "classifier=MultinomialNB(alpha=0.7, fit_prior=True, class_prior=None)\n",
        "classifier.fit(X_train, z_train)\n",
        "z_pred = classifier.predict(M_test)"
      ],
      "execution_count": 43,
      "outputs": []
    },
    {
      "cell_type": "code",
      "metadata": {
        "id": "enV9MffODJzj",
        "outputId": "b9abe31e-2cca-4222-a05f-80c3193298ee",
        "colab": {
          "base_uri": "https://localhost:8080/",
          "height": 126
        }
      },
      "source": [
        "#printing the predicted variables\n",
        "z_pred[0:100]"
      ],
      "execution_count": 44,
      "outputs": [
        {
          "output_type": "execute_result",
          "data": {
            "text/plain": [
              "array([10,  7,  7,  7, 10,  3,  4,  9,  3,  7,  9, 10, 10,  2,  7,  9,  9,\n",
              "        3,  0,  7,  7,  8,  7, 10,  0,  7, 10,  7, 10,  7, 10,  9,  4,  7,\n",
              "       10,  7,  4, 10, 10,  4,  0,  4, 10,  9,  0,  7, 10,  0,  9, 10,  9,\n",
              "        3,  9,  3,  7, 10,  7, 10,  0,  7,  7,  3,  8,  9,  0, 10, 10, 10,\n",
              "        7,  7, 10,  9, 10, 10, 10, 10,  7, 10, 10,  0,  7, 10, 10, 10,  0,\n",
              "       10, 10,  9, 10, 10, 10,  7, 10, 10,  7,  3,  4,  7,  9,  9])"
            ]
          },
          "metadata": {
            "tags": []
          },
          "execution_count": 44
        }
      ]
    },
    {
      "cell_type": "code",
      "metadata": {
        "id": "rHz_gOKtDeFd",
        "outputId": "86f6fa8a-3401-4390-ff93-cdd7f06150fa",
        "colab": {
          "base_uri": "https://localhost:8080/",
          "height": 545
        }
      },
      "source": [
        "#inverting the encoding to get the result in understandable form\n",
        "pred_category = c.inverse_transform(z_pred)\n",
        "print(pred_category[0:100])"
      ],
      "execution_count": 45,
      "outputs": [
        {
          "output_type": "stream",
          "text": [
            "['Science' 'Pharmacy' 'Pharmacy' 'Pharmacy' 'Science'\n",
            " 'Medical Affairs / Pharmaceutical Physician'\n",
            " 'Medical Information and Pharmacovigilance' 'Regulatory Affairs'\n",
            " 'Medical Affairs / Pharmaceutical Physician' 'Pharmacy'\n",
            " 'Regulatory Affairs' 'Science' 'Science' 'Manufacturing & Operations'\n",
            " 'Pharmacy' 'Regulatory Affairs' 'Regulatory Affairs'\n",
            " 'Medical Affairs / Pharmaceutical Physician' 'Clinical Research'\n",
            " 'Pharmacy' 'Pharmacy' 'Quality-assurance' 'Pharmacy' 'Science'\n",
            " 'Clinical Research' 'Pharmacy' 'Science' 'Pharmacy' 'Science' 'Pharmacy'\n",
            " 'Science' 'Regulatory Affairs'\n",
            " 'Medical Information and Pharmacovigilance' 'Pharmacy' 'Science'\n",
            " 'Pharmacy' 'Medical Information and Pharmacovigilance' 'Science'\n",
            " 'Science' 'Medical Information and Pharmacovigilance' 'Clinical Research'\n",
            " 'Medical Information and Pharmacovigilance' 'Science'\n",
            " 'Regulatory Affairs' 'Clinical Research' 'Pharmacy' 'Science'\n",
            " 'Clinical Research' 'Regulatory Affairs' 'Science' 'Regulatory Affairs'\n",
            " 'Medical Affairs / Pharmaceutical Physician' 'Regulatory Affairs'\n",
            " 'Medical Affairs / Pharmaceutical Physician' 'Pharmacy' 'Science'\n",
            " 'Pharmacy' 'Science' 'Clinical Research' 'Pharmacy' 'Pharmacy'\n",
            " 'Medical Affairs / Pharmaceutical Physician' 'Quality-assurance'\n",
            " 'Regulatory Affairs' 'Clinical Research' 'Science' 'Science' 'Science'\n",
            " 'Pharmacy' 'Pharmacy' 'Science' 'Regulatory Affairs' 'Science' 'Science'\n",
            " 'Science' 'Science' 'Pharmacy' 'Science' 'Science' 'Clinical Research'\n",
            " 'Pharmacy' 'Science' 'Science' 'Science' 'Clinical Research' 'Science'\n",
            " 'Science' 'Regulatory Affairs' 'Science' 'Science' 'Science' 'Pharmacy'\n",
            " 'Science' 'Science' 'Pharmacy'\n",
            " 'Medical Affairs / Pharmaceutical Physician'\n",
            " 'Medical Information and Pharmacovigilance' 'Pharmacy'\n",
            " 'Regulatory Affairs' 'Regulatory Affairs']\n"
          ],
          "name": "stdout"
        }
      ]
    },
    {
      "cell_type": "code",
      "metadata": {
        "id": "VrtIGAGoCuqi",
        "outputId": "64014c11-4fc9-435c-d10b-75544ff64f78",
        "colab": {
          "base_uri": "https://localhost:8080/",
          "height": 35
        }
      },
      "source": [
        "pharma_test.shape"
      ],
      "execution_count": 46,
      "outputs": [
        {
          "output_type": "execute_result",
          "data": {
            "text/plain": [
              "(11771, 2)"
            ]
          },
          "metadata": {
            "tags": []
          },
          "execution_count": 46
        }
      ]
    },
    {
      "cell_type": "code",
      "metadata": {
        "id": "eIDXm87Qy63a",
        "outputId": "48ba76b5-3a8f-48a9-f1b3-e84dc33e5a5e",
        "colab": {
          "base_uri": "https://localhost:8080/",
          "height": 407
        }
      },
      "source": [
        "#pred_type array for job type\n",
        "#pred_category for job category \n",
        "pharma_test['job_type'] = pred_type\n",
        "pharma_test['category'] = pred_category\n",
        "\n",
        "pharma_test.drop('job_description', axis = 'columns', inplace = True)\n",
        "pharma_test"
      ],
      "execution_count": 47,
      "outputs": [
        {
          "output_type": "execute_result",
          "data": {
            "text/html": [
              "<div>\n",
              "<style scoped>\n",
              "    .dataframe tbody tr th:only-of-type {\n",
              "        vertical-align: middle;\n",
              "    }\n",
              "\n",
              "    .dataframe tbody tr th {\n",
              "        vertical-align: top;\n",
              "    }\n",
              "\n",
              "    .dataframe thead th {\n",
              "        text-align: right;\n",
              "    }\n",
              "</style>\n",
              "<table border=\"1\" class=\"dataframe\">\n",
              "  <thead>\n",
              "    <tr style=\"text-align: right;\">\n",
              "      <th></th>\n",
              "      <th>job_no</th>\n",
              "      <th>job_type</th>\n",
              "      <th>category</th>\n",
              "    </tr>\n",
              "  </thead>\n",
              "  <tbody>\n",
              "    <tr>\n",
              "      <th>0</th>\n",
              "      <td>Id-1</td>\n",
              "      <td>Permanent</td>\n",
              "      <td>Science</td>\n",
              "    </tr>\n",
              "    <tr>\n",
              "      <th>1</th>\n",
              "      <td>Id-2</td>\n",
              "      <td>Temporary/Seasonal</td>\n",
              "      <td>Pharmacy</td>\n",
              "    </tr>\n",
              "    <tr>\n",
              "      <th>2</th>\n",
              "      <td>Id-4</td>\n",
              "      <td>Permanent</td>\n",
              "      <td>Pharmacy</td>\n",
              "    </tr>\n",
              "    <tr>\n",
              "      <th>3</th>\n",
              "      <td>Id-6</td>\n",
              "      <td>Temporary/Seasonal</td>\n",
              "      <td>Pharmacy</td>\n",
              "    </tr>\n",
              "    <tr>\n",
              "      <th>4</th>\n",
              "      <td>Id-7</td>\n",
              "      <td>Permanent</td>\n",
              "      <td>Science</td>\n",
              "    </tr>\n",
              "    <tr>\n",
              "      <th>...</th>\n",
              "      <td>...</td>\n",
              "      <td>...</td>\n",
              "      <td>...</td>\n",
              "    </tr>\n",
              "    <tr>\n",
              "      <th>11766</th>\n",
              "      <td>Id-29421</td>\n",
              "      <td>Permanent</td>\n",
              "      <td>Quality-assurance</td>\n",
              "    </tr>\n",
              "    <tr>\n",
              "      <th>11767</th>\n",
              "      <td>Id-29422</td>\n",
              "      <td>Permanent</td>\n",
              "      <td>Medical Information and Pharmacovigilance</td>\n",
              "    </tr>\n",
              "    <tr>\n",
              "      <th>11768</th>\n",
              "      <td>Id-29425</td>\n",
              "      <td>Permanent</td>\n",
              "      <td>Medical Information and Pharmacovigilance</td>\n",
              "    </tr>\n",
              "    <tr>\n",
              "      <th>11769</th>\n",
              "      <td>Id-29426</td>\n",
              "      <td>Permanent</td>\n",
              "      <td>Regulatory Affairs</td>\n",
              "    </tr>\n",
              "    <tr>\n",
              "      <th>11770</th>\n",
              "      <td>Id-29427</td>\n",
              "      <td>Permanent</td>\n",
              "      <td>Manufacturing &amp; Operations</td>\n",
              "    </tr>\n",
              "  </tbody>\n",
              "</table>\n",
              "<p>11771 rows × 3 columns</p>\n",
              "</div>"
            ],
            "text/plain": [
              "         job_no            job_type                                   category\n",
              "0          Id-1           Permanent                                    Science\n",
              "1          Id-2  Temporary/Seasonal                                   Pharmacy\n",
              "2          Id-4           Permanent                                   Pharmacy\n",
              "3          Id-6  Temporary/Seasonal                                   Pharmacy\n",
              "4          Id-7           Permanent                                    Science\n",
              "...         ...                 ...                                        ...\n",
              "11766  Id-29421           Permanent                          Quality-assurance\n",
              "11767  Id-29422           Permanent  Medical Information and Pharmacovigilance\n",
              "11768  Id-29425           Permanent  Medical Information and Pharmacovigilance\n",
              "11769  Id-29426           Permanent                         Regulatory Affairs\n",
              "11770  Id-29427           Permanent                 Manufacturing & Operations\n",
              "\n",
              "[11771 rows x 3 columns]"
            ]
          },
          "metadata": {
            "tags": []
          },
          "execution_count": 47
        }
      ]
    },
    {
      "cell_type": "code",
      "metadata": {
        "id": "cGhYbVbJDuJx",
        "outputId": "cad7b972-c615-4651-b7c7-c5757e204cc3",
        "colab": {
          "base_uri": "https://localhost:8080/",
          "height": 126
        }
      },
      "source": [
        "print(pharma_test.job_type.unique())\n",
        "print(pharma_test.category.unique())"
      ],
      "execution_count": 48,
      "outputs": [
        {
          "output_type": "stream",
          "text": [
            "['Permanent' 'Temporary/Seasonal' 'Any' 'Part-Time' 'Contract/Interim']\n",
            "['Science' 'Pharmacy' 'Medical Affairs / Pharmaceutical Physician'\n",
            " 'Medical Information and Pharmacovigilance' 'Regulatory Affairs'\n",
            " 'Manufacturing & Operations' 'Clinical Research' 'Quality-assurance'\n",
            " 'Pharmaceutical, Healthcare and Medical Sales'\n",
            " 'Data Management and Statistics' 'Pharmaceutical Marketing']\n"
          ],
          "name": "stdout"
        }
      ]
    },
    {
      "cell_type": "code",
      "metadata": {
        "id": "-5o6sRz5wG2e",
        "outputId": "4e173add-4cc3-4a01-f0de-ef46424e3dda",
        "colab": {
          "base_uri": "https://localhost:8080/",
          "height": 345
        }
      },
      "source": [
        "print(pharma_test.job_type.value_counts())\n",
        "print(pharma_test.category.value_counts())"
      ],
      "execution_count": 49,
      "outputs": [
        {
          "output_type": "stream",
          "text": [
            "Permanent             8446\n",
            "Temporary/Seasonal    3080\n",
            "Any                    190\n",
            "Part-Time               53\n",
            "Contract/Interim         2\n",
            "Name: job_type, dtype: int64\n",
            "Science                                         3211\n",
            "Medical Information and Pharmacovigilance       2150\n",
            "Pharmacy                                        1802\n",
            "Quality-assurance                               1533\n",
            "Regulatory Affairs                              1467\n",
            "Medical Affairs / Pharmaceutical Physician       589\n",
            "Clinical Research                                548\n",
            "Manufacturing & Operations                       313\n",
            "Pharmaceutical Marketing                          86\n",
            "Pharmaceutical, Healthcare and Medical Sales      36\n",
            "Data Management and Statistics                    36\n",
            "Name: category, dtype: int64\n"
          ],
          "name": "stdout"
        }
      ]
    },
    {
      "cell_type": "code",
      "metadata": {
        "id": "aLWRhcQP1axQ"
      },
      "source": [
        "submission = pharma_test.to_csv('TFidfsubmission2.csv')"
      ],
      "execution_count": 50,
      "outputs": []
    },
    {
      "cell_type": "code",
      "metadata": {
        "id": "UCYm7-K79nEe",
        "outputId": "8f0e9b63-687f-4854-a177-0afeb7c104cf",
        "colab": {
          "base_uri": "https://localhost:8080/",
          "height": 17
        }
      },
      "source": [
        "from google.colab import files\n",
        "files.download(\"TFidfsubmission2.csv\")"
      ],
      "execution_count": 51,
      "outputs": [
        {
          "output_type": "display_data",
          "data": {
            "application/javascript": [
              "\n",
              "    async function download(id, filename, size) {\n",
              "      if (!google.colab.kernel.accessAllowed) {\n",
              "        return;\n",
              "      }\n",
              "      const div = document.createElement('div');\n",
              "      const label = document.createElement('label');\n",
              "      label.textContent = `Downloading \"${filename}\": `;\n",
              "      div.appendChild(label);\n",
              "      const progress = document.createElement('progress');\n",
              "      progress.max = size;\n",
              "      div.appendChild(progress);\n",
              "      document.body.appendChild(div);\n",
              "\n",
              "      const buffers = [];\n",
              "      let downloaded = 0;\n",
              "\n",
              "      const channel = await google.colab.kernel.comms.open(id);\n",
              "      // Send a message to notify the kernel that we're ready.\n",
              "      channel.send({})\n",
              "\n",
              "      for await (const message of channel.messages) {\n",
              "        // Send a message to notify the kernel that we're ready.\n",
              "        channel.send({})\n",
              "        if (message.buffers) {\n",
              "          for (const buffer of message.buffers) {\n",
              "            buffers.push(buffer);\n",
              "            downloaded += buffer.byteLength;\n",
              "            progress.value = downloaded;\n",
              "          }\n",
              "        }\n",
              "      }\n",
              "      const blob = new Blob(buffers, {type: 'application/binary'});\n",
              "      const a = document.createElement('a');\n",
              "      a.href = window.URL.createObjectURL(blob);\n",
              "      a.download = filename;\n",
              "      div.appendChild(a);\n",
              "      a.click();\n",
              "      div.remove();\n",
              "    }\n",
              "  "
            ],
            "text/plain": [
              "<IPython.core.display.Javascript object>"
            ]
          },
          "metadata": {
            "tags": []
          }
        },
        {
          "output_type": "display_data",
          "data": {
            "application/javascript": [
              "download(\"download_f60c61f1-4e5a-4c3b-ba47-c716267fc28c\", \"TFidfsubmission2.csv\", 541645)"
            ],
            "text/plain": [
              "<IPython.core.display.Javascript object>"
            ]
          },
          "metadata": {
            "tags": []
          }
        }
      ]
    },
    {
      "cell_type": "code",
      "metadata": {
        "id": "mAcobwjr-SXS"
      },
      "source": [
        ""
      ],
      "execution_count": 51,
      "outputs": []
    }
  ]
}